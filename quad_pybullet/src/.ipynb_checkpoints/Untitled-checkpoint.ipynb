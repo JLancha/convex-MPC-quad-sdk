{
 "cells": [
  {
   "cell_type": "code",
   "execution_count": 1,
   "id": "b0ee884a",
   "metadata": {
    "scrolled": true
   },
   "outputs": [
    {
     "name": "stderr",
     "output_type": "stream",
     "text": [
      "pybullet build time: May 20 2022 19:44:17\n"
     ]
    },
    {
     "name": "stdout",
     "output_type": "stream",
     "text": [
      "8\n",
      "0\n",
      "1\n",
      "jtoe0\n",
      "9\n",
      "2\n",
      "3\n",
      "jtoe1\n",
      "10\n",
      "4\n",
      "5\n",
      "jtoe2\n",
      "11\n",
      "6\n",
      "7\n",
      "jtoe3\n",
      "cmu_text_right\n",
      "cmu_text_left\n",
      "jtoe3 15\n",
      "[3, 7, 11, 15]\n"
     ]
    }
   ],
   "source": [
    "import pybullet as pb\n",
    "import time\n",
    "import pybullet_data\n",
    "import numpy as np\n",
    "physicsClient = pb.connect(pb.GUI)#or p.DIRECT for non-graphical version\n",
    "pb.setAdditionalSearchPath(pybullet_data.getDataPath()) #optionally\n",
    "pb.setGravity(0,0,-10)\n",
    "planeId = pb.loadURDF(\"plane.urdf\")\n",
    "startPos = [1.3,0.8,0.4]\n",
    "startOrientation = pb.getQuaternionFromEuler([0,0,1.1])\n",
    "# boxId = p.loadURDF(\"/home/haoluo/catkin_ws/src/quad-sdk/quad_simulator/spinebot_description/quad_spine_sdf/testSpinebot.urdf\",startPos, startOrientation)\n",
    "boxId = pb.loadURDF(\"/home/haoluo/catkin_ws/src/quad-sdk/quad_simulator/spirit_description/urdf/spirit.urdf\",startPos, startOrientation)  \n",
    "# boxId = p.loadSDF(\"/home/haoluo/catkin_ws2/src/quad-sdk/quad_simulator/spirit_description/sdf_mesh/spirit.sdf\")  \n",
    "#set the center of mass frame (loadURDF sets base link frame) startPos/Ornp.resetBasePositionAndOrientation(boxId, startPos, startOrientation)\n",
    "nJoints = pb.getNumJoints(boxId)\n",
    "jointNameToId ={}\n",
    "for i in range (nJoints):\n",
    "    jointInfo = pb.getJointInfo(boxId, i)\n",
    "    jointNameToId[jointInfo[1].decode('UTF-8')] = jointInfo[0] \n",
    "    print(jointInfo[1].decode('UTF-8'))\n",
    "# spine=jointNameToId[\"spine\"]\n",
    "abdfl=jointNameToId[\"8\"]\n",
    "hipfl=jointNameToId[\"0\"]\n",
    "kneefl=jointNameToId[\"1\"]\n",
    "abdfr=jointNameToId[\"9\"]\n",
    "hipfr=jointNameToId[\"2\"]\n",
    "kneefr=jointNameToId[\"3\"]\n",
    "abdbl=jointNameToId[\"10\"]\n",
    "hipbl=jointNameToId[\"4\"]\n",
    "kneebl=jointNameToId[\"5\"]\n",
    "abdbr=jointNameToId[\"11\"]\n",
    "hipbr=jointNameToId[\"6\"]\n",
    "kneebr=jointNameToId[\"7\"]\n",
    "\n",
    "legFR = [abdfr,hipfr,kneefr]\n",
    "legFL = [abdfl,hipfl,kneefl]\n",
    "legBR = [abdbr,hipbr,kneebr]\n",
    "legBL = [abdbl,hipbl,kneebl]\n",
    "\n",
    "jtoe = jointNameToId[\"jtoe3\"]\n",
    "print('jtoe3', jtoe)\n",
    "\n",
    "\n",
    "toe_idx = 1\n",
    "\n",
    "\n",
    "p_gain = 0.12\n",
    "\n",
    "all_legs = [legFL,legBL,legFR,legBR]\n",
    "leg_phase = [0,2,2,0]\n",
    "\n",
    "# Stand_angs = [0.0,1.0,1.5]\n",
    "Stand_angs = [0.0,0.8,1.5]\n",
    "Walk_angs = [[0.0,0.7,1.5],[0.0,0.7,1.2],[0.0,1.0,1.2],[0.0,1.0,1.5]]\n",
    "\n",
    "from robot_estimate import Robot_sensors\n",
    "from robot_estimate import pos_quat_to_SE3, SE3_transform_pos\n",
    "\n",
    "test = Robot_sensors(boxId)\n",
    "\n",
    "for i in range(5000):\n",
    "    pb.stepSimulation()\n",
    "    # p.setJointMotorControl2(boxId, jointIndex=spine,controlMode=p.POSITION_CONTROL,targetPosition=0.0,positionGain=p_gain) \n",
    "    for k,j in zip(all_legs,leg_phase):\n",
    "        pb.setJointMotorControl2(boxId, jointIndex=k[0],controlMode=pb.POSITION_CONTROL,targetPosition=Stand_angs[0],positionGain=p_gain)\n",
    "        pb.setJointMotorControl2(boxId, jointIndex=k[1],controlMode=pb.POSITION_CONTROL,targetPosition=Stand_angs[1],positionGain=p_gain)\n",
    "        pb.setJointMotorControl2(boxId, jointIndex=k[2],controlMode=pb.POSITION_CONTROL,targetPosition=Stand_angs[2],positionGain=p_gain)\n",
    "#         print(test.read_contact(toe_idx),'contact')\n",
    "#         print(test.read_contact_state(),'contact')\n",
    "#         print(test.read_contact(toe_idx),'contact\\n')\n",
    "#     toe_contact = test.read_single_contact(toe_idx)\n",
    "#     toe_contact = test.read_all_contacts_pts_body()\n",
    "#     if i%200 ==0:\n",
    "#         print(i)\n",
    "#         print(toe_contact[0],'pos\\n')\n",
    "#         print(toe_contact[1],'grf\\n')\n",
    "#         print('posvec\\n')\n",
    "pb.disconnect()\n"
   ]
  },
  {
   "cell_type": "code",
   "execution_count": 6,
   "id": "160dcf2d",
   "metadata": {},
   "outputs": [
    {
     "ename": "TypeError",
     "evalue": "'dict_keys' object is not subscriptable",
     "output_type": "error",
     "traceback": [
      "\u001b[0;31m---------------------------------------------------------------------------\u001b[0m",
      "\u001b[0;31mTypeError\u001b[0m                                 Traceback (most recent call last)",
      "Cell \u001b[0;32mIn[6], line 2\u001b[0m\n\u001b[1;32m      1\u001b[0m aa \u001b[38;5;241m=\u001b[39m jointNameToId\u001b[38;5;241m.\u001b[39mkeys()\n\u001b[0;32m----> 2\u001b[0m \u001b[43maa\u001b[49m\u001b[43m[\u001b[49m\u001b[38;5;241;43m0\u001b[39;49m\u001b[43m]\u001b[49m\n",
      "\u001b[0;31mTypeError\u001b[0m: 'dict_keys' object is not subscriptable"
     ]
    }
   ],
   "source": [
    "aa = list(jointNameToId.keys())\n",
    "aa"
   ]
  },
  {
   "cell_type": "code",
   "execution_count": null,
   "id": "45309f58",
   "metadata": {},
   "outputs": [],
   "source": []
  },
  {
   "cell_type": "code",
   "execution_count": 3,
   "id": "777d6e13",
   "metadata": {},
   "outputs": [
    {
     "ename": "SyntaxError",
     "evalue": "invalid syntax (1400169908.py, line 1)",
     "output_type": "error",
     "traceback": [
      "\u001b[0;36m  Cell \u001b[0;32mIn[3], line 1\u001b[0;36m\u001b[0m\n\u001b[0;31m    [[ 0.2403745   0.17093127 -0.29916018]\u001b[0m\n\u001b[0m                   ^\u001b[0m\n\u001b[0;31mSyntaxError\u001b[0m\u001b[0;31m:\u001b[0m invalid syntax\n"
     ]
    }
   ],
   "source": [
    "[[ 0.2403745   0.17093127 -0.29916018]\n",
    " [-0.21043732  0.17103387 -0.29801058]\n",
    " [ 0.24029436 -0.17104613 -0.29910064]\n",
    " [-0.20969449 -0.17095399 -0.29795314]]"
   ]
  },
  {
   "cell_type": "code",
   "execution_count": null,
   "id": "a615d13e",
   "metadata": {},
   "outputs": [],
   "source": [
    "from robot import SE3_transform_pos"
   ]
  },
  {
   "cell_type": "code",
   "execution_count": null,
   "id": "57d2b3a2",
   "metadata": {},
   "outputs": [],
   "source": [
    "testpair = [[1,3,3],[0,0.1,0.3,1.2]]\n",
    "testvec = [0,1,1]\n",
    "pos_quat_to_SE3(testpair[0],testpair[1])"
   ]
  },
  {
   "cell_type": "code",
   "execution_count": null,
   "id": "4e6aeef5",
   "metadata": {},
   "outputs": [],
   "source": [
    "SE3_transform_pos(testvec,testpair[0],testpair[1])"
   ]
  },
  {
   "cell_type": "code",
   "execution_count": null,
   "id": "346ba960",
   "metadata": {},
   "outputs": [],
   "source": []
  }
 ],
 "metadata": {
  "kernelspec": {
   "display_name": "Python 3 (ipykernel)",
   "language": "python",
   "name": "python3"
  },
  "language_info": {
   "codemirror_mode": {
    "name": "ipython",
    "version": 3
   },
   "file_extension": ".py",
   "mimetype": "text/x-python",
   "name": "python",
   "nbconvert_exporter": "python",
   "pygments_lexer": "ipython3",
   "version": "3.8.10"
  }
 },
 "nbformat": 4,
 "nbformat_minor": 5
}
